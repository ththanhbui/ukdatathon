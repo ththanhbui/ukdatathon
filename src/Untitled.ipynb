{
 "cells": [
  {
   "cell_type": "code",
   "execution_count": 25,
   "metadata": {},
   "outputs": [],
   "source": [
    "# Render our plots inline\n",
    "\n",
    "import pandas as pd\n",
    "import matplotlib.pyplot as plt\n",
    "\n",
    "earnings= pd.read_csv('../data/earnings.csv', encoding = \"ISO-8859-1\")"
   ]
  },
  {
   "cell_type": "code",
   "execution_count": 33,
   "metadata": {},
   "outputs": [
    {
     "data": {
      "image/png": "[encoded data removed]",
      "text/plain": [
       "<Figure size 432x288 with 1 Axes>"
      ]
     },
     "metadata": {
      "needs_background": "light"
     },
     "output_type": "display_data"
    }
   ],
   "source": [
    "earnings2 = earnings[earnings['year'] == 2010]\n",
    "earnings2[:3]\n",
    "\n",
    "earnings3=earnings2.sort_values('total_med',ascending=False )\n",
    "earnings4=earnings3[:6]\n",
    "\n",
    "ax = earnings4.plot.bar(x='fips', y='total_med', rot=0)"
   ]
  },
  {
   "cell_type": "code",
   "execution_count": 35,
   "metadata": {},
   "outputs": [
    {
     "ename": "SyntaxError",
     "evalue": "invalid syntax (<ipython-input-35-d0035082831b>, line 15)",
     "output_type": "error",
     "traceback": [
      "\u001b[0;36m  File \u001b[0;32m\"<ipython-input-35-d0035082831b>\"\u001b[0;36m, line \u001b[0;32m15\u001b[0m\n\u001b[0;31m    print('Tulare Economy')\u001b[0m\n\u001b[0m        ^\u001b[0m\n\u001b[0;31mSyntaxError\u001b[0m\u001b[0;31m:\u001b[0m invalid syntax\n"
     ]
    }
   ],
   "source": [
    "earning_tulare=earnings[earnings['fips']==6107]\n",
    "median_salary_tulare=earning_tulare[['total_med','year']]\n",
    "#print(median_salary_tulare)\n",
    "#print(earning_tulare['total_agri_fish_mine'])\n",
    "#industry_occupation= pd.read_csv('industry_occupation.csv', encoding = \"ISO-8859-1\")\n",
    "industry_tulare=industry_occupation[industry_occupation['fips']==6107]\n",
    "number_of_people_year_tulare=industry_tulare[['total_employed','year']]\n",
    "#print(number_of_people_year_tulare)\n",
    "\n",
    "#tulare_economy=pd.concat([median_salary_tulare,number_of_people_year_tulare])\n",
    "#print(tulare_economy)\n",
    "tulare_economy=median_salary_tulare.join(number_of_people_year_tulare.set_index('year'), on='year')\n",
    "tulare_economy['income_per_capita'] = tulare_economy['total_med']/tulare_economy['total_employed']\n",
    "print('============================================'\n",
    "print('Tulare Economy')\n",
    "print('============================================')\n",
    "print(tulare_economy)"
   ]
  },
  {
   "cell_type": "code",
   "execution_count": 36,
   "metadata": {},
   "outputs": [
    {
     "name": "stdout",
     "output_type": "stream",
     "text": [
      "       total_med  year\n",
      "2275       24712  2010\n",
      "5418       26017  2011\n",
      "8561       26427  2012\n",
      "11704      27044  2013\n",
      "14847      27263  2014\n",
      "17989      27122  2015\n",
      "21131      27136  2016\n",
      "      total_employed  year\n",
      "601          38219.0  2010\n",
      "1411         38407.0  2011\n",
      "2225         39426.0  2012\n",
      "3042         39664.0  2013\n",
      "3859         38629.0  2014\n",
      "4678         37667.0  2015\n",
      "5498         36512.0  2016\n",
      "2275     39245\n",
      "5418     41228\n",
      "8561     45822\n",
      "11704    48095\n",
      "14847    50134\n",
      "17989    50371\n",
      "21131    47009\n",
      "Name: total_agri_fish_mine, dtype: object\n",
      "       total_med  year  total_employed  income_per_capita\n",
      "2275       24712  2010         38219.0           0.646589\n",
      "5418       26017  2011         38407.0           0.677403\n",
      "8561       26427  2012         39426.0           0.670294\n",
      "11704      27044  2013         39664.0           0.681827\n",
      "14847      27263  2014         38629.0           0.705765\n",
      "17989      27122  2015         37667.0           0.720047\n",
      "21131      27136  2016         36512.0           0.743208\n"
     ]
    }
   ],
   "source": [
    "earning_indiana=earnings[earnings['fips']==42063]\n",
    "median_salary_indiana=earning_indiana[['total_med','year']]\n",
    "print(median_salary_indiana)\n",
    "\n",
    "\n",
    "industry_indiana=industry_occupation[industry_occupation['fips']==42063]\n",
    "#pandas.DataFrame.mean\n",
    "number_of_people_year_indiana=industry_indiana[['total_employed','year']]\n",
    "print(number_of_people_year_indiana)\n",
    "\n",
    "earning_indiana=earnings[earnings['fips']==42063]\n",
    "median_salary_indiana=earning_indiana[['total_med','year']]\n",
    "#print(median_salary_indiana)\n",
    "print(earning_indiana['total_agri_fish_mine'])\n",
    "#industry_occupation= pd.read_csv('industry_occupation.csv', encoding = \"ISO-8859-1\")\n",
    "industry_indiana=industry_occupation[industry_occupation['fips']==42063]\n",
    "number_of_people_year_indiana=industry_indiana[['total_employed','year']]\n",
    "#print(number_of_people_year_indiana)\n",
    "\n",
    "#indiana_economy=pd.concat([median_salary_indiana,number_of_people_year_indiana])\n",
    "#print(indiana_economy)\n",
    "indiana_economy=median_salary_indiana.join(number_of_people_year_indiana.set_index('year'), on='year')\n",
    "indiana_economy['income_per_capita'] = indiana_economy['total_med']/indiana_economy['total_employed']\n",
    "print(indiana_economy)\n"
   ]
  },
  {
   "cell_type": "code",
   "execution_count": 34,
   "metadata": {},
   "outputs": [
    {
     "data": {
      "image/png": "[encoded data removed]",
      "text/plain": [
       "<Figure size 432x288 with 1 Axes>"
      ]
     },
     "metadata": {
      "needs_background": "light"
     },
     "output_type": "display_data"
    }
   ],
   "source": [
    "ax = earnings4.plot.bar(x='fips', y='total_med', rot=0)"
   ]
  },
  {
   "cell_type": "code",
   "execution_count": 28,
   "metadata": {},
   "outputs": [
    {
     "name": "stdout",
     "output_type": "stream",
     "text": [
      "============================================\n",
      "Tulare Economy\n",
      "============================================\n"
     ]
    },
    {
     "ename": "NameError",
     "evalue": "name 'tulare_economy' is not defined",
     "output_type": "error",
     "traceback": [
      "\u001b[0;31m---------------------------------------------------------------------------\u001b[0m",
      "\u001b[0;31mNameError\u001b[0m                                 Traceback (most recent call last)",
      "\u001b[0;32m<ipython-input-28-6e9938785467>\u001b[0m in \u001b[0;36m<module>\u001b[0;34m\u001b[0m\n\u001b[1;32m      2\u001b[0m \u001b[0mprint\u001b[0m\u001b[0;34m(\u001b[0m\u001b[0;34m'Tulare Economy'\u001b[0m\u001b[0;34m)\u001b[0m\u001b[0;34m\u001b[0m\u001b[0m\n\u001b[1;32m      3\u001b[0m \u001b[0mprint\u001b[0m\u001b[0;34m(\u001b[0m\u001b[0;34m'============================================'\u001b[0m\u001b[0;34m)\u001b[0m\u001b[0;34m\u001b[0m\u001b[0m\n\u001b[0;32m----> 4\u001b[0;31m \u001b[0mprint\u001b[0m\u001b[0;34m(\u001b[0m\u001b[0mtulare_economy\u001b[0m\u001b[0;34m)\u001b[0m\u001b[0;34m\u001b[0m\u001b[0m\n\u001b[0m\u001b[1;32m      5\u001b[0m \u001b[0;34m\u001b[0m\u001b[0m\n\u001b[1;32m      6\u001b[0m \u001b[0mprint\u001b[0m\u001b[0;34m(\u001b[0m\u001b[0;34m'============================================'\u001b[0m\u001b[0;34m)\u001b[0m\u001b[0;34m\u001b[0m\u001b[0m\n",
      "\u001b[0;31mNameError\u001b[0m: name 'tulare_economy' is not defined"
     ]
    }
   ],
   "source": [
    "print('============================================')\n",
    "print('Tulare Economy')\n",
    "print('============================================')\n",
    "print(tulare_economy)\n",
    "\n",
    "print('============================================')\n",
    "print('Indiana Economy')\n",
    "print('============================================')\n",
    "print(indiana_economy)"
   ]
  },
  {
   "cell_type": "code",
   "execution_count": null,
   "metadata": {},
   "outputs": [],
   "source": []
  }
 ],
 "metadata": {
  "kernelspec": {
   "display_name": "Python 3",
   "language": "python",
   "name": "python3"
  },
  "language_info": {
   "codemirror_mode": {
    "name": "ipython",
    "version": 3
   },
   "file_extension": ".py",
   "mimetype": "text/x-python",
   "name": "python",
   "nbconvert_exporter": "python",
   "pygments_lexer": "ipython3",
   "version": "3.7.0"
  }
 },
 "nbformat": 4,
 "nbformat_minor": 2
}
